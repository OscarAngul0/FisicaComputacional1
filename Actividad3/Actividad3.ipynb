{
  "nbformat": 4,
  "nbformat_minor": 0,
  "metadata": {
    "colab": {
      "name": "Actividad3.ipynb",
      "provenance": [],
      "collapsed_sections": []
    },
    "kernelspec": {
      "name": "python3",
      "display_name": "Python 3"
    }
  },
  "cells": [
    {
      "cell_type": "code",
      "metadata": {
        "id": "EAODVS54xmmk",
        "colab": {
          "base_uri": "https://localhost:8080/"
        },
        "outputId": "b49ee92d-5ef1-4d51-943b-d1a9770047f0"
      },
      "source": [
        "import numpy as np\r\n",
        "import pandas as pd\r\n",
        "url = \"https://raw.githubusercontent.com/OscarAngul0/FisicaComputacional1/master/Actividad1/25015.txt\"\r\n",
        "#CREAMOS NUESTRO DATA FRAME\r\n",
        "my_col = [\"Fecha\",\"Precip\",\"Evap\",\"T_Max\",\"T_min\"]\r\n",
        "df_data = pd.read_csv(url, names=my_col, encoding=\"cp1251\", sep=\"\\s+\", header=None, skiprows=19, skipfooter=1, engine=\"python\")\r\n",
        "#url es la direccion del archivo, names nos da nombres a las columnas, enncoding le dice a python que el archivo tienes caracteres en español. sep es el formato de separacion de datos. header son comentarios al principio del archivo\r\n",
        "#verificamos que el dataframe se haya creado correctamente\r\n",
        "print (df_data.head(), df_data.tail())\r\n",
        "str_Nulo = 'Nulo'\r\n",
        "df_data1 = df_data.replace(to_replace=str_Nulo, value='', regex=True)\r\n",
        "\r\n",
        "\r\n",
        "#convertimos la informacion a numeros flotantes\r\n",
        "cols1 = ['Precip', 'Evap', 'T_Max', 'T_min']\r\n",
        "for cols in cols1:\r\n",
        "  df_data1[cols] = pd.to_numeric(df_data1[cols], errors='coerce')\r\n",
        "  #verificamos cuantos datos nulos hay\r\n",
        "df_data1.isnull().sum() \r\n",
        "#vemos que casi no faltan datos en relacion al numero de dias donde tenemos mediciones\r\n",
        "#hacemos estadistica\r\n",
        "df_data1.describe()\r\n",
        "#trabajamos la columa de las fechas\r\n",
        "df_data2=df_data1.copy()\r\n",
        "df_data2[\"Fecha\"] = pd.to_datetime(df_data2[\"Fecha\"], dayfirst=True)\r\n",
        "print (df_data2.head())\r\n",
        "df_data2.dtypes\r\n",
        "#Agregamos 2 nuevas columnas poara denotar el año y el mes, esto se hace para facilitar el filtrado de informacion +adelante\r\n",
        "df_data2[\"Año\"]=df_data2[\"Fecha\"].dt.year\r\n",
        "df_data2[\"Mes\"]=df_data2[\"Fecha\"].dt.month\r\n",
        "print (df_data2.head(), df_data2.tail())\r\n",
        "df_data2.dtypes\r\n",
        "#Nos aseguramos que el data frame, contenga los datos del tipo correcto\r\n"
      ],
      "execution_count": null,
      "outputs": [
        {
          "output_type": "stream",
          "text": [
            "        Fecha Precip Evap T_Max T_min\n",
            "0  01/01/1961      0  2.9    22  10.5\n",
            "1  02/01/1961      0  2.7    25     9\n",
            "2  03/01/1961      0  3.7    29    10\n",
            "3  04/01/1961      0  2.5    22    13\n",
            "4  05/01/1961      0  1.1    24    14             Fecha Precip Evap T_Max T_min\n",
            "21261  26/04/2019      0  6.9    36    16\n",
            "21262  27/04/2019      0  7.4  35.5    16\n",
            "21263  28/04/2019      0  5.3  34.5  16.5\n",
            "21264  29/04/2019      0  8.1    36  15.5\n",
            "21265  30/04/2019      0  6.3  35.5  16.5\n",
            "       Fecha  Precip  Evap  T_Max  T_min\n",
            "0 1961-01-01     0.0   2.9   22.0   10.5\n",
            "1 1961-01-02     0.0   2.7   25.0    9.0\n",
            "2 1961-01-03     0.0   3.7   29.0   10.0\n",
            "3 1961-01-04     0.0   2.5   22.0   13.0\n",
            "4 1961-01-05     0.0   1.1   24.0   14.0\n",
            "       Fecha  Precip  Evap  T_Max  T_min   Año  Mes\n",
            "0 1961-01-01     0.0   2.9   22.0   10.5  1961    1\n",
            "1 1961-01-02     0.0   2.7   25.0    9.0  1961    1\n",
            "2 1961-01-03     0.0   3.7   29.0   10.0  1961    1\n",
            "3 1961-01-04     0.0   2.5   22.0   13.0  1961    1\n",
            "4 1961-01-05     0.0   1.1   24.0   14.0  1961    1            Fecha  Precip  Evap  T_Max  T_min   Año  Mes\n",
            "21261 2019-04-26     0.0   6.9   36.0   16.0  2019    4\n",
            "21262 2019-04-27     0.0   7.4   35.5   16.0  2019    4\n",
            "21263 2019-04-28     0.0   5.3   34.5   16.5  2019    4\n",
            "21264 2019-04-29     0.0   8.1   36.0   15.5  2019    4\n",
            "21265 2019-04-30     0.0   6.3   35.5   16.5  2019    4\n"
          ],
          "name": "stdout"
        },
        {
          "output_type": "execute_result",
          "data": {
            "text/plain": [
              "Fecha     datetime64[ns]\n",
              "Precip           float64\n",
              "Evap             float64\n",
              "T_Max            float64\n",
              "T_min            float64\n",
              "Año                int64\n",
              "Mes                int64\n",
              "dtype: object"
            ]
          },
          "metadata": {
            "tags": []
          },
          "execution_count": 11
        }
      ]
    },
    {
      "cell_type": "code",
      "metadata": {
        "id": "zFcGnebo7T8U"
      },
      "source": [
        "\r\n"
      ],
      "execution_count": null,
      "outputs": []
    },
    {
      "cell_type": "code",
      "metadata": {
        "id": "4VarH_g6B_bp"
      },
      "source": [
        ""
      ],
      "execution_count": null,
      "outputs": []
    }
  ]
}