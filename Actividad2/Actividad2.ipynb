{
  "nbformat": 4,
  "nbformat_minor": 0,
  "metadata": {
    "colab": {
      "name": "Actividad2.ipynb",
      "provenance": [],
      "collapsed_sections": []
    },
    "kernelspec": {
      "display_name": "Python 3",
      "name": "python3"
    }
  },
  "cells": [
    {
      "cell_type": "code",
      "metadata": {
        "colab": {
          "base_uri": "https://localhost:8080/"
        },
        "id": "uwzq-JUEq0AM",
        "outputId": "7ea07214-7541-4718-9a4c-897ecdc6111a"
      },
      "source": [
        "#PRIMER PROGRAMITA\r\n",
        "import numpy as np\r\n",
        "def area(x,y):\r\n",
        "  return x*y\r\n",
        "print (\" las dimensiones del rectangulo\")\r\n",
        "x=float (input())\r\n",
        "y=float (input())\r\n",
        "if x<0 or y<0 :\r\n",
        "  print (\"no existe un rectangulo con esas dimensiones\",end=\"\")\r\n",
        "else:\r\n",
        "  a=area(x,y)\r\n",
        "  print(\"el area del rectangulo es\" \"\\nArea = {:.2f}\".format(a))\r\n"
      ],
      "execution_count": null,
      "outputs": [
        {
          "output_type": "stream",
          "text": [
            " las dimensiones del rectangulo\n",
            "3\n",
            "3\n",
            "el area del rectangulo es\n",
            "Area = 9.00\n"
          ],
          "name": "stdout"
        }
      ]
    },
    {
      "cell_type": "code",
      "metadata": {
        "colab": {
          "base_uri": "https://localhost:8080/"
        },
        "id": "gJowOxwesTPH",
        "outputId": "00d96d71-62ef-455d-f013-b6af525652f9"
      },
      "source": [
        "#EJEMPLO IF\r\n",
        "x = 3\r\n",
        "\r\n",
        "y = 2\r\n",
        "\r\n",
        "z = 1\r\n",
        "\r\n",
        "if x == y:\r\n",
        "\r\n",
        "     print(\"Hola\")\r\n",
        "\r\n",
        "elif x == z:\r\n",
        "\r\n",
        "     print(\"Hasta luego\")\r\n",
        "\r\n",
        "else:\r\n",
        "\r\n",
        "     print(\"???\")\r\n",
        "#ejemplo loop\r\n",
        "\r\n",
        "\r\n",
        "print(\"loop 1\")\r\n",
        "\r\n",
        "for i in range(5): # default - comienza en 0, incrementa en 1\r\n",
        "\r\n",
        "     print(i)\r\n",
        "\r\n",
        " \r\n",
        "\r\n",
        "print(\"\\nloop 2\")\r\n",
        "\r\n",
        "for i in range(10, 2, -2): # entradas: inicio, fin, tamaño de paso \r\n",
        "\r\n",
        "     print(i)\r\n"
      ],
      "execution_count": null,
      "outputs": [
        {
          "output_type": "stream",
          "text": [
            "???\n",
            "loop 1\n",
            "0\n",
            "1\n",
            "2\n",
            "3\n",
            "4\n",
            "\n",
            "loop 2\n",
            "10\n",
            "8\n",
            "6\n",
            "4\n"
          ],
          "name": "stdout"
        }
      ]
    },
    {
      "cell_type": "code",
      "metadata": {
        "colab": {
          "base_uri": "https://localhost:8080/"
        },
        "id": "_uxRiXanxqR9",
        "outputId": "298cfde8-b570-4c22-b7d4-3645f49374f3"
      },
      "source": [
        "#EJEMPLO WHILE\r\n",
        "i = 1\r\n",
        "\r\n",
        "while i < 100:\r\n",
        "\r\n",
        "     print(i**2)\r\n",
        "\r\n",
        "     i += i**2 # a += b es notación compacta de a = a + b"
      ],
      "execution_count": null,
      "outputs": [
        {
          "output_type": "stream",
          "text": [
            "1\n",
            "4\n",
            "36\n",
            "1764\n"
          ],
          "name": "stdout"
        }
      ]
    },
    {
      "cell_type": "code",
      "metadata": {
        "colab": {
          "background_save": true
        },
        "id": "tJZYYBOmsnvc"
      },
      "source": [
        "# EJEMPLOS DE CONTINUE Y BREAK\r\n",
        "\r\n",
        " \r\n",
        "\r\n",
        "for num in range(2, 10):\r\n",
        "\r\n",
        "     if num % 2 == 0:\r\n",
        "\r\n",
        "          continue # se regresa al inicio\r\n",
        "\r\n",
        "     print(f\"Encontrado {num}, un número impar\")\r\n",
        "\r\n",
        " \r\n",
        "\r\n",
        "n = 64\r\n",
        "\r\n",
        "for x in range(2, n):\r\n",
        "\r\n",
        "     if n % x == 0: # si n es divisible por x (modulo 0)\r\n",
        "\r\n",
        "          print(f'{n} igual {x} * {n // x}')\r\n",
        "\r\n",
        "          break\r\n",
        "\r\n",
        " \r\n",
        "\r\n",
        "for i in range(5):\r\n",
        "\r\n",
        "     for j in range(5*i):\r\n",
        "\r\n",
        "          if j == 10:\r\n",
        "\r\n",
        "               print(j)\r\n",
        "\r\n",
        "               break\r\n",
        "\r\n",
        "#break se va a esta línea\r\n",
        "\r\n",
        " \r\n",
        "\r\n",
        "if False:\r\n",
        "\r\n",
        "     pass # no hace nada, continua\r\n",
        "\r\n",
        "else:\r\n",
        "\r\n",
        "     print('True!')"
      ],
      "execution_count": null,
      "outputs": []
    },
    {
      "cell_type": "code",
      "metadata": {
        "colab": {
          "base_uri": "https://localhost:8080/",
          "height": 295
        },
        "id": "1q_NIHN6izqJ",
        "outputId": "e9a59846-a0b1-47ee-da02-d169006f10e6"
      },
      "source": [
        "#EJEMPLOS PARA GRAFICAR\r\n",
        "import matplotlib.pyplot as plt\r\n",
        "\r\n",
        "\r\n",
        "# Gráfica de funciones\r\n",
        "# Definición de variables y funciones\r\n",
        "\r\n",
        "x = np.linspace(-np.pi,np.pi,100)  # arrego de 100 puntos entre -pi y pi\r\n",
        "\r\n",
        "y = np.sin(x)      # y será también un arreglo de 100 puntos automáticamente \r\n",
        "\r\n",
        "y1 = x\r\n",
        "\r\n",
        "y3 = x**3/(3*2)\r\n",
        "\r\n",
        "y5 = x**5/(5*4*3*2)\r\n",
        "\r\n",
        "sT = y1 - y3 + y5 # Serie de Taylor de sin(x) a 5o. Orden.\r\n",
        "\r\n",
        " \r\n",
        "\r\n",
        "# Creación de la gráficas\r\n",
        "\r\n",
        "plt.subplot(111)\r\n",
        "\r\n",
        "plt.xlabel(\"X label\")\r\n",
        "\r\n",
        "plt.ylabel(\"Y label\")\r\n",
        "\r\n",
        "plt.title(\"Title\")\r\n",
        "\r\n",
        "\r\n",
        "# Graficar varias funciones\r\n",
        "\r\n",
        "plt.plot(x,y, label=\"sin(x)\")\r\n",
        "\r\n",
        "plt.plot(x,y1, label='x')\r\n",
        "\r\n",
        "plt.plot(x,sT, label='Serie Taylor Orden 5')\r\n",
        "\r\n",
        "# Agregar una malla\r\n",
        "\r\n",
        "plt.grid(True)\r\n",
        "\r\n",
        "# Fijar los límites en el eje Y.\r\n",
        "\r\n",
        "plt.ylim(-2, 2)\r\n",
        "\r\n",
        "# Ubicación de las etiquetas de las funciones\r\n",
        "\r\n",
        "plt.legend(bbox_to_anchor=(1,1), loc=\"upper left\")\r\n",
        "\r\n",
        "plt.show()\r\n",
        "\r\n",
        "#plt.savefig('plot.png')  # Si se desea guardar en un archivo la imagen de la gráfica"
      ],
      "execution_count": null,
      "outputs": [
        {
          "output_type": "display_data",
          "data": {
            "image/png": "[encoded data removed]",
            "text/plain": [
              "<Figure size 432x288 with 1 Axes>"
            ]
          },
          "metadata": {
            "tags": [],
            "needs_background": "light"
          }
        }
      ]
    },
    {
      "cell_type": "code",
      "metadata": {
        "colab": {
          "base_uri": "https://localhost:8080/"
        },
        "id": "NtC0beHSi1ob",
        "outputId": "73899168-0d78-4ae7-e369-8d32f63bc16f"
      },
      "source": [
        "#EJERCICIO 1.1\r\n",
        "import numpy as np\r\n",
        "print (\"Saludos usuario, este programa ayuda a calcular el area de rectangulos\")\r\n",
        "print (\"Ingrese las dimensiones del rectangulo\")\r\n",
        "q=float (input())\r\n",
        "w=float (input()) \r\n",
        "if q<0 or w<0 :\r\n",
        "  print (\"No existe un rectangulo con esas dimensiones\",end=\"\")\r\n",
        "else:\r\n",
        "  print (f\"El area es {q*w}\", end=\"\")\r\n",
        "\r\n",
        "\r\n",
        "\r\n"
      ],
      "execution_count": 100,
      "outputs": [
        {
          "output_type": "stream",
          "text": [
            "Saludos usuario, este programa ayuda a calcular el area de rectangulos\n",
            "Ingrese las dimensiones del rectangulo\n",
            "2\n",
            "8\n",
            "El area es 16.0"
          ],
          "name": "stdout"
        }
      ]
    },
    {
      "cell_type": "code",
      "metadata": {
        "id": "9GVo_As6xMXq",
        "colab": {
          "base_uri": "https://localhost:8080/"
        },
        "outputId": "991f9751-381a-4647-d30e-a7fe047631e2"
      },
      "source": [
        "#EJERCICIO 1.2\r\n",
        "import numpy as np\r\n",
        "print (\"Saludos usuario, este programa ayuda a calcular el area de circulos\")\r\n",
        "print (\"Ingrese el radio del circulo\")\r\n",
        "r=float (input())\r\n",
        "if r < 0 :\r\n",
        "  print (\"No existe un circulo con esas dimensiones\", end=\"\")\r\n",
        "else:\r\n",
        "  print (f\"El area es {(np.pi)*r**2.0}\", end=\"\") "
      ],
      "execution_count": 101,
      "outputs": [
        {
          "output_type": "stream",
          "text": [
            "Saludos usuario, este programa ayuda a calcular el area de circulos\n",
            "Ingrese el radio del circulo\n",
            "1\n",
            "El area es 3.141592653589793"
          ],
          "name": "stdout"
        }
      ]
    },
    {
      "cell_type": "code",
      "metadata": {
        "colab": {
          "base_uri": "https://localhost:8080/"
        },
        "id": "alVdQDS3wya-",
        "outputId": "6ed467b6-a5d1-4f80-b197-c9e7572bba18"
      },
      "source": [
        "#EJERCICIO 1.3\r\n",
        "import numpy as np\r\n",
        "print (\"Saludos usuario, este programa ayuda a calcular el area de elipses\")\r\n",
        "print (\"Ingrese el semieje mayor de la elipse\")\r\n",
        "a=float (input())\r\n",
        "print (\"Ingrese el semieje menor de la elipse\")\r\n",
        "b=float (input())\r\n",
        "if a<0 or b<0 : \r\n",
        " print (\"No existe una elipse con esas dimensiones\", end=\"\")\r\n",
        "else:\r\n",
        "  print (f\"El area es {(np.pi)*a*b}\")   "
      ],
      "execution_count": 102,
      "outputs": [
        {
          "output_type": "stream",
          "text": [
            "Saludos usuario, este programa ayuda a calcular el area de elipses\n",
            "Ingrese el semieje mayor de la elipse\n",
            "2\n",
            "Ingrese el semieje menor de la elipse\n",
            "1\n",
            "El area es 6.283185307179586\n"
          ],
          "name": "stdout"
        }
      ]
    },
    {
      "cell_type": "code",
      "metadata": {
        "colab": {
          "base_uri": "https://localhost:8080/"
        },
        "id": "Cn4p2KTrwyos",
        "outputId": "93226bb7-fd70-4a71-bf0c-84e4ffd76fd2"
      },
      "source": [
        "#EJERCICIO 1.4\r\n",
        "import numpy as np\r\n",
        "print (\"Saludos usuario, este programa ayuda a calcular el volumen de cilindros\")\r\n",
        "print (\"Ingrese el radio de la base del cilindro\")\r\n",
        "r=float (input())\r\n",
        "print (\"Ingrese la altura del cilindro\")\r\n",
        "h=float (input())\r\n",
        "if r<0 or h<0:\r\n",
        "  print (\"No existe un cilindro con esas dimensiones\")\r\n",
        "else:\r\n",
        "  print (f\"El area es {((np.pi)*r**2.*h)} \") \r\n"
      ],
      "execution_count": 103,
      "outputs": [
        {
          "output_type": "stream",
          "text": [
            "Saludos usuario, este programa ayuda a calcular el volumen de cilindros\n",
            "Ingrese el radio de la base del cilindro\n",
            "1\n",
            "Ingrese la altura del cilindro\n",
            "1\n",
            "El area es 3.141592653589793 \n"
          ],
          "name": "stdout"
        }
      ]
    },
    {
      "cell_type": "code",
      "metadata": {
        "colab": {
          "base_uri": "https://localhost:8080/"
        },
        "id": "nWCyOMqdwyx0",
        "outputId": "32c338b6-94e9-4fb0-dbf8-93cda1598ad0"
      },
      "source": [
        "#EJERCICIO 1.5\r\n",
        "import numpy as np\r\n",
        "print (\"Saludos usuario, este programa ayuda a calcular el volumen de esferas\")\r\n",
        "print (\"Ingrese el radio de la esfera\")\r\n",
        "r=float (input())\r\n",
        "if r < 0 :\r\n",
        "  print (\"No existe una esfera con esas dimensiones\", end=\"\")\r\n",
        "else:\r\n",
        "  print (f\"El area es {(4/3.0)*(np.pi)*r**3.0}\", end=\"\") \r\n"
      ],
      "execution_count": 104,
      "outputs": [
        {
          "output_type": "stream",
          "text": [
            "Saludos usuario, este programa ayuda a calcular el volumen de esferas\n",
            "Ingrese el radio de la esfera\n",
            "2\n",
            "El area es 33.510321638291124"
          ],
          "name": "stdout"
        }
      ]
    },
    {
      "cell_type": "code",
      "metadata": {
        "colab": {
          "base_uri": "https://localhost:8080/"
        },
        "id": "swheIwrPYTRH",
        "outputId": "8f257c8f-0ac1-4447-c4a2-a994c583c772"
      },
      "source": [
        "#EJERCICIO 2\r\n",
        "import numpy as np\r\n",
        "def r1(x,y,z):\r\n",
        "  return (-y/(2*x)+(y**2-4*x*z )**(1/2.0)/(2*x))\r\n",
        "def r2(x,y,z):\r\n",
        " return (-y/(2*x)-(y**2-4*x*z )**(1/2.0)/(2*x))\r\n",
        "print (\"Bienvenido a la calculadora de raices de ecuaciones cuadraticas\")\r\n",
        "print (\"Ingrese los coeficientes de la ecuacion cuadratica que quiera resolver, de la forma ax^2+bx+c=0\")\r\n",
        "print (\"Ingrese el coeficiente (a)\")\r\n",
        "a=float(input())\r\n",
        "print (\"Ingrese el coeficiente (b)\")\r\n",
        "b=float(input())\r\n",
        "print (\"Ingrese el coeficiente (c)\")\r\n",
        "c=float(input())\r\n",
        "d=b**2-4*a*c \r\n",
        "m=r1(a,b,c)\r\n",
        "n=r2(a,b,c)\r\n",
        "if 0>d:\r\n",
        "  print (f\"La ecuacion cuadratica tiene raices complejas, la letra j representa a la unidad imaginaria.\")\r\n",
        "  print (\"La primera raiz es\", m)\r\n",
        "  print (\"La segunda raiz es\", n)\r\n",
        "elif d==0:\r\n",
        " print (f\"La raiz es {-b/(2*a)}\", end=\"\")\r\n",
        "else:\r\n",
        " print (f\"Las raices son {-b/(2*a)+np.sqrt(d)/(2*a)} y {-b/(2*a)-np.sqrt(d)/(2*a)}\")\r\n",
        "   "
      ],
      "execution_count": 106,
      "outputs": [
        {
          "output_type": "stream",
          "text": [
            "Bienvenido a la calculadora de raices de ecuaciones cuadraticas\n",
            "Ingrese los coeficientes de la ecuacion cuadratica que quiera resolver, de la forma ax^2+bx+c=0\n",
            "Ingrese el coeficiente (a)\n",
            "1\n",
            "Ingrese el coeficiente (b)\n",
            "1\n",
            "Ingrese el coeficiente (c)\n",
            "-1\n",
            "Las raices son 0.6180339887498949 y -1.618033988749895\n"
          ],
          "name": "stdout"
        }
      ]
    },
    {
      "cell_type": "code",
      "metadata": {
        "colab": {
          "base_uri": "https://localhost:8080/"
        },
        "id": "amZp1bkRzwgy",
        "outputId": "c4d3276b-6725-476e-cf19-ca3829f71015"
      },
      "source": [
        "#EJERCICIO 3\r\n",
        "import numpy as np\r\n",
        "print (\"Bienvenido a la calculadora de raices cuadradas de numeros positivos, ingrese un numero para calcular su raiz cuadrada\")\r\n",
        "x=float(input())\r\n",
        "s=x\r\n",
        "if x<0:\r\n",
        "  print (\"No existen raices reales para numeros negativos\")\r\n",
        "else:  \r\n",
        "  while (abs(np.sqrt(s)-x)) >= 0.00000000001 :\r\n",
        "   x=(x+s/x)/2.0\r\n",
        "  else:\r\n",
        "   print (f\"Las raices son {x} y {-x}\")\r\n",
        " "
      ],
      "execution_count": 107,
      "outputs": [
        {
          "output_type": "stream",
          "text": [
            "Bienvenido a la calculadora de raices cuadradas de numeros positivos, ingrese un numero para calcular su raiz cuadrada\n",
            "8\n",
            "Las raices son 2.82842712474619 y -2.82842712474619\n"
          ],
          "name": "stdout"
        }
      ]
    },
    {
      "cell_type": "code",
      "metadata": {
        "id": "upa8SJbq0X6I",
        "colab": {
          "base_uri": "https://localhost:8080/",
          "height": 642
        },
        "outputId": "b7b4141b-da41-4aeb-f446-2332c9d75126"
      },
      "source": [
        "#EJERCICIO 4\r\n",
        "import numpy as np\r\n",
        "import matplotlib.pyplot as plt\r\n",
        "x = np.linspace(-1.5,1.5,100) \r\n",
        "y = np.log(1.0+x)\r\n",
        "y4 = x-x**2/2.0+x**3/3.0-x**4/4.0\r\n",
        "y7 = y4+x**5/5.0-x**6/6.0+x**7/7.0\r\n",
        "y11 = y7-x**8/8.0+x**9/9.0-x**10/10.0+x**11/11.0\r\n",
        "y16 =y11-x**12/12.0+x**13/13.0-x**14/14.0+x**15/15.0-x**16/16.0\r\n",
        "# Creación de la gráficas\r\n",
        "plt.figure(figsize=(10, 10))\r\n",
        "plt.subplot(111)\r\n",
        "plt.title(\"Aproximaciónes de Taylor a ln(1+x)\")\r\n",
        "plt.plot(x,y, label=\"ln(1+x)\")\r\n",
        "plt.plot(x,y4, label='Aproximacion de Taylor de orden 4')\r\n",
        "plt.plot(x,y7, label='Aproximacion de Taylor de orden 7')\r\n",
        "plt.plot(x,y11, label='Aproximacion de Taylor de orden 11')\r\n",
        "plt.plot(x,y16, label='Aproximacion de Taylor de orden 16')\r\n",
        "plt.grid(True)\r\n",
        "plt.ylim(-4, 2)\r\n",
        "plt.xlim(-1.5, 1.5)\r\n",
        "plt.legend(bbox_to_anchor=(1,1), loc=\"upper left\")\r\n",
        "plt.show()\r\n"
      ],
      "execution_count": 99,
      "outputs": [
        {
          "output_type": "stream",
          "text": [
            "/usr/local/lib/python3.6/dist-packages/ipykernel_launcher.py:5: RuntimeWarning: invalid value encountered in log\n",
            "  \"\"\"\n"
          ],
          "name": "stderr"
        },
        {
          "output_type": "display_data",
          "data": {
            "image/png": "[encoded data removed]",
            "text/plain": [
              "<Figure size 720x720 with 1 Axes>"
            ]
          },
          "metadata": {
            "tags": [],
            "needs_background": "light"
          }
        }
      ]
    },
    {
      "cell_type": "code",
      "metadata": {
        "id": "xphaCF5fyoJT"
      },
      "source": [
        ""
      ],
      "execution_count": null,
      "outputs": []
    }
  ]
}